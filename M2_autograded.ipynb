{
 "cells": [
  {
   "cell_type": "code",
   "execution_count": 57,
   "metadata": {
    "deletable": false,
    "editable": false,
    "nbgrader": {
     "cell_type": "code",
     "checksum": "79328a3df9f5ed87019fc687f906237d",
     "grade": false,
     "grade_id": "cell-f96e0264d922200c",
     "locked": true,
     "schema_version": 3,
     "solution": false,
     "task": false
    }
   },
   "outputs": [],
   "source": [
    "# Load Required Packages\n",
    "library(testthat)"
   ]
  },
  {
   "cell_type": "markdown",
   "metadata": {
    "deletable": false,
    "editable": false,
    "nbgrader": {
     "cell_type": "markdown",
     "checksum": "360c92719a4ddf737179f07e61f03398",
     "grade": false,
     "grade_id": "cell-e910b7c06b099a83",
     "locked": true,
     "schema_version": 3,
     "solution": false,
     "task": false
    }
   },
   "source": [
    "# Problem 1\n",
    "\n",
    "Your friend Chip claims to have \"superhuman predictive skills.\" To test his claims, you decide to set up an experiment with coins, where Chip will guess the result of the flip, then you will flip the coin and record whether Chip guessed correctly. Assume all coins are fair.\n",
    "\n",
    "Let $p$ be the proportion of flips that are guessed correctly. In the assignment for module 1, we discerned the null and alternative hypotheses to be:\n",
    "\n",
    "\\begin{align*}\n",
    "    H_0:&\\qquad p = 1/2 \\\\\n",
    "    H_1:&\\qquad p > 1/2\n",
    "\\end{align*}"
   ]
  },
  {
   "cell_type": "markdown",
   "metadata": {
    "deletable": false,
    "editable": false,
    "nbgrader": {
     "cell_type": "markdown",
     "checksum": "226b15da438e24f01d978041f93e294c",
     "grade": false,
     "grade_id": "cell-dd7ec5ff24855781",
     "locked": true,
     "schema_version": 3,
     "solution": false,
     "task": false
    }
   },
   "source": [
    "**Part A)** Suppose we want to perform our hypothesis test at a significance level $\\alpha=0.05$. Which type of test will we perform and which critical region should we use? Save the integer of the correct answer into `p1.a`.\n",
    "\n",
    "1. Upper Tailed Test with critical region above $z_{0.05}$.\n",
    "2. Upper Tailed Test with critical region above $z_{0.95}$.\n",
    "3. Lower Tailed Test with critical region below $z_{0.05}$.\n",
    "4. Lower Tailed Test with critical region below $z_{0.95}$.\n",
    "5. None of the above."
   ]
  },
  {
   "cell_type": "code",
   "execution_count": 58,
   "metadata": {
    "deletable": false,
    "nbgrader": {
     "cell_type": "code",
     "checksum": "d707a38f53e6754796a17311b4a1e019",
     "grade": false,
     "grade_id": "cell-73d63231e948a603",
     "locked": false,
     "schema_version": 3,
     "solution": true,
     "task": false
    }
   },
   "outputs": [],
   "source": [
    "p1.a = NA\n",
    "\n",
    "p1.a = 1\n"
   ]
  },
  {
   "cell_type": "code",
   "execution_count": 59,
   "metadata": {
    "deletable": false,
    "editable": false,
    "nbgrader": {
     "cell_type": "code",
     "checksum": "35b0c0df2476e337c036110eb70c3aa1",
     "grade": true,
     "grade_id": "cell-309e0d10c042f4fe",
     "locked": true,
     "points": 1,
     "schema_version": 3,
     "solution": false,
     "task": false
    }
   },
   "outputs": [],
   "source": [
    "# Hidden Test Cell"
   ]
  },
  {
   "cell_type": "markdown",
   "metadata": {
    "deletable": false,
    "editable": false,
    "nbgrader": {
     "cell_type": "markdown",
     "checksum": "99a3fce03badb2973f0bc8c70bd54615",
     "grade": false,
     "grade_id": "cell-e48138c288a78afd",
     "locked": true,
     "schema_version": 3,
     "solution": false,
     "task": false
    }
   },
   "source": [
    "**Part B)** You and Chip sit down, perform the experiment, and find that Chip correctly predicted the results of 60 out of 100 flips. At the $\\alpha=0.05$ significance level, would the test indicate that Chip is or is not psychic? Into variable `p1.b`, save `TRUE` if the test says Chip is psychic and `FALSE` if the test says he is not psychic.\n",
    "\n",
    "Hint: The sample proportion $\\widehat{p}=60/100$ is a sample mean for a sample of size $100$ from the Bernoulli distribution. Use the Central Limit Theorem for a test on a mean."
   ]
  },
  {
   "cell_type": "code",
   "execution_count": 2,
   "metadata": {
    "deletable": false,
    "nbgrader": {
     "cell_type": "code",
     "checksum": "4622f939948c19ce9083ffa85fd741ac",
     "grade": false,
     "grade_id": "cell-4c994a67721d2094",
     "locked": false,
     "schema_version": 3,
     "solution": true,
     "task": false
    }
   },
   "outputs": [],
   "source": [
    "p1.b = NA\n",
    "alpha = 0.05\n",
    "\n",
    "p_hat <- 60 / 100  \n",
    "p_0 <- 0.5  \n",
    "n <- 100  \n",
    "alpha <- 0.05  \n",
    "\n",
    "# Calculate Z-score\n",
    "z_score <- (p_hat - p_0) / sqrt(p_0 * (1 - p_0) / n)\n",
    "\n",
    "# Compute critical value\n",
    "critical_value <- qnorm(1 - alpha)\n",
    "\n",
    "# Check if Chip is psychic\n",
    "p1.b <- z_score > critical_value\n"
   ]
  },
  {
   "cell_type": "code",
   "execution_count": 61,
   "metadata": {
    "deletable": false,
    "editable": false,
    "nbgrader": {
     "cell_type": "code",
     "checksum": "a0ea75473c1ef1b18a6ae755d9fa7da7",
     "grade": true,
     "grade_id": "cell-8108bb610e2a0619",
     "locked": true,
     "points": 1,
     "schema_version": 3,
     "solution": false,
     "task": false
    }
   },
   "outputs": [],
   "source": [
    "# Hidden Test Cell"
   ]
  },
  {
   "cell_type": "markdown",
   "metadata": {
    "deletable": false,
    "editable": false,
    "nbgrader": {
     "cell_type": "markdown",
     "checksum": "8264e5f6f1b81d496cc906f21f38875f",
     "grade": false,
     "grade_id": "cell-375e66886e79cc57",
     "locked": true,
     "schema_version": 3,
     "solution": false,
     "task": false
    }
   },
   "source": [
    "**Part C)** Suppose that the null hypothesis is actually false. If we where to decrease the significance level to $\\alpha=0.01$, what would happen to the power and to the probability of a Type II error? \n",
    "\n",
    "1. Both the power and the probability of Type II error would increase.\n",
    "2. Both the power and the probability of Type II error would decrease.\n",
    "3. The power would increase and the probability of Type II error would decrease.\n",
    "4. The power would decrease and the probability of Type II error would increase.\n",
    "\n",
    "Save the integer of the correct answer into variable `p1.c`."
   ]
  },
  {
   "cell_type": "code",
   "execution_count": 62,
   "metadata": {
    "deletable": false,
    "nbgrader": {
     "cell_type": "code",
     "checksum": "8a03ed425d330d09cbefd5d6b432a44e",
     "grade": false,
     "grade_id": "cell-6b9e073ee7d3cf08",
     "locked": false,
     "schema_version": 3,
     "solution": true,
     "task": false
    }
   },
   "outputs": [],
   "source": [
    "p1.c = NA\n",
    "\n",
    "p1.c = 4\n"
   ]
  },
  {
   "cell_type": "code",
   "execution_count": 63,
   "metadata": {
    "deletable": false,
    "editable": false,
    "nbgrader": {
     "cell_type": "code",
     "checksum": "2fe7b4fdce1fb38ca67f791a0fd46edd",
     "grade": true,
     "grade_id": "cell-0489c8781458508b",
     "locked": true,
     "points": 1,
     "schema_version": 3,
     "solution": false,
     "task": false
    }
   },
   "outputs": [],
   "source": [
    "# Hidden Test Cell"
   ]
  },
  {
   "cell_type": "markdown",
   "metadata": {
    "deletable": false,
    "editable": false,
    "nbgrader": {
     "cell_type": "markdown",
     "checksum": "62dd473404d00a77c05a0c019079e44e",
     "grade": false,
     "grade_id": "cell-6be5a0e1025da50f",
     "locked": true,
     "schema_version": 3,
     "solution": false,
     "task": false
    }
   },
   "source": [
    "**Part D)** Out of the 100 flips, what is the minimum number of flips that Chip would need to guess correctly in order to reject the null hypothesis at the $\\alpha=0.01$ significance level? Save your answer as `p1.d`. Round your answer to the nearest whole number."
   ]
  },
  {
   "cell_type": "code",
   "execution_count": 3,
   "metadata": {
    "deletable": false,
    "nbgrader": {
     "cell_type": "code",
     "checksum": "0090b7491442355837508451a3f587ca",
     "grade": false,
     "grade_id": "cell-d611fb1cca6a536f",
     "locked": false,
     "schema_version": 3,
     "solution": true,
     "task": false
    }
   },
   "outputs": [],
   "source": [
    "p1.d = NA\n",
    "\n",
    "p_0 <- 0.5\n",
    "n <- 100\n",
    "alpha_01 <- 0.01\n",
    "\n",
    "# Find the critical value for upper tail test\n",
    "critical_value_01 <- qnorm(1 - alpha_01)\n",
    "\n",
    "# Compute minimum correct guesses needed to reject the null hypothesis\n",
    "p1.d <- round((critical_value_01 * sqrt(p_0 * (1 - p_0) / n) + p_0) * n)\n",
    "\n",
    "\n"
   ]
  },
  {
   "cell_type": "code",
   "execution_count": 4,
   "metadata": {},
   "outputs": [
    {
     "data": {
      "text/html": [
       "61.291777220422"
      ],
      "text/latex": [
       "61.291777220422"
      ],
      "text/markdown": [
       "61.291777220422"
      ],
      "text/plain": [
       "[1] 61.29178"
      ]
     },
     "metadata": {},
     "output_type": "display_data"
    }
   ],
   "source": [
    "qnorm(0.99, 0.5, sqrt((62/100)*(1 - 62/100)/100)) * 100"
   ]
  },
  {
   "cell_type": "code",
   "execution_count": 66,
   "metadata": {
    "deletable": false,
    "editable": false,
    "nbgrader": {
     "cell_type": "code",
     "checksum": "f9dc54b83cb698c68d683e236fe52c31",
     "grade": true,
     "grade_id": "cell-224a7ad1e8ad32c3",
     "locked": true,
     "points": 1,
     "schema_version": 3,
     "solution": false,
     "task": false
    }
   },
   "outputs": [],
   "source": [
    "# Hidden Test Cell"
   ]
  },
  {
   "cell_type": "markdown",
   "metadata": {
    "deletable": false,
    "editable": false,
    "nbgrader": {
     "cell_type": "markdown",
     "checksum": "74c9468789b7928658c768ea32c09999",
     "grade": false,
     "grade_id": "cell-014cd184b8aaf67f",
     "locked": true,
     "schema_version": 3,
     "solution": false,
     "task": false
    }
   },
   "source": [
    "# Problem 2\n",
    "\n",
    "The same model of car is constructed at two different assembly plants, Plant A and Plant B. After extensive research, the life expentancy of cars from Plant A was found to follow a normal distribution, with an average of 250 thousand miles and a standard deviation of 100 thousand miles. Cars from plant B were harder to locate, and you where only able to amass a sample of 100 cars, the sample mean of which was 220 thousand miles. "
   ]
  },
  {
   "cell_type": "markdown",
   "metadata": {
    "deletable": false,
    "editable": false,
    "nbgrader": {
     "cell_type": "markdown",
     "checksum": "30b6b62ae918e931695aa7d11916af28",
     "grade": false,
     "grade_id": "cell-58e8ba4ee20a2ffa",
     "locked": true,
     "schema_version": 3,
     "solution": false,
     "task": false
    }
   },
   "source": [
    "**Part A)** You want to determine if cars from Plant B actually have a shorter life expectancy than those from Plant A. Let $\\mu$ be the true mean life expectancy of cars from Plant B. From the list below, which is the correct hypothesis test for this situation?\n",
    "\n",
    "1. $H_0: \\mu = 220 \\qquad H_1: \\mu < 220$\n",
    "2. $H_0: \\mu = 220 \\qquad H_1: \\mu \\ne 220$\n",
    "3. $H_0: \\mu = 250 \\qquad H_1: \\mu < 250$\n",
    "4. $H_0: \\mu = 250 \\qquad H_1: \\mu \\ne 250$\n",
    "5. None of the above.\n",
    "\n",
    "Save the interger of your selected choice into variable `p2.a`."
   ]
  },
  {
   "cell_type": "code",
   "execution_count": 67,
   "metadata": {
    "deletable": false,
    "nbgrader": {
     "cell_type": "code",
     "checksum": "d9dfd47005899cf8cf9023a0a287fd6c",
     "grade": false,
     "grade_id": "cell-f9ffac33be76a26d",
     "locked": false,
     "schema_version": 3,
     "solution": true,
     "task": false
    }
   },
   "outputs": [],
   "source": [
    "p2.a = NA\n",
    "\n",
    "p2.a = 3\n",
    "\n"
   ]
  },
  {
   "cell_type": "code",
   "execution_count": 68,
   "metadata": {
    "deletable": false,
    "editable": false,
    "nbgrader": {
     "cell_type": "code",
     "checksum": "9b01e899ab62f31816f5b114303528d2",
     "grade": true,
     "grade_id": "cell-34c57ebd62c82eaf",
     "locked": true,
     "points": 1,
     "schema_version": 3,
     "solution": false,
     "task": false
    }
   },
   "outputs": [],
   "source": [
    "# Hidden Test Cell"
   ]
  },
  {
   "cell_type": "markdown",
   "metadata": {
    "deletable": false,
    "editable": false,
    "nbgrader": {
     "cell_type": "markdown",
     "checksum": "8cdbfcaf17a2e937f46afd99b7b14fdf",
     "grade": false,
     "grade_id": "cell-194cd4bc60c98eee",
     "locked": true,
     "schema_version": 3,
     "solution": false,
     "task": false
    }
   },
   "source": [
    "**Part B)** Determine the p-value of the test you chose in **Part A**. Save your answer as `p2.b`. Round your answer to four decimal places."
   ]
  },
  {
   "cell_type": "code",
   "execution_count": 69,
   "metadata": {
    "deletable": false,
    "nbgrader": {
     "cell_type": "code",
     "checksum": "3bf8c7e1a6ad342b8f8f192fe49d4472",
     "grade": false,
     "grade_id": "cell-556220696d782be1",
     "locked": false,
     "schema_version": 3,
     "solution": true,
     "task": false
    }
   },
   "outputs": [
    {
     "name": "stdout",
     "output_type": "stream",
     "text": [
      "[1] 0.0013\n"
     ]
    }
   ],
   "source": [
    "p2.b = NA\n",
    "\n",
    "mu_A <- 250  \n",
    "sigma_A <- 100  \n",
    "x_bar_B <- 220  \n",
    "n_B <- 100  \n",
    "\n",
    "# Calculate Z-test statistic using sqrt() instead of math.sqrt()\n",
    "z_test <- (x_bar_B - mu_A) / (sigma_A / sqrt(n_B))\n",
    "p2.b <- round(pnorm(z_test), 4)\n",
    "\n",
    "print(p2.b)\n"
   ]
  },
  {
   "cell_type": "code",
   "execution_count": 70,
   "metadata": {
    "deletable": false,
    "editable": false,
    "nbgrader": {
     "cell_type": "code",
     "checksum": "5f53b51d490642c5d0613c47ef86852f",
     "grade": true,
     "grade_id": "cell-3a5f4ba8ce994fb2",
     "locked": true,
     "points": 1,
     "schema_version": 3,
     "solution": false,
     "task": false
    }
   },
   "outputs": [],
   "source": [
    "# Hidden Test Cell"
   ]
  },
  {
   "cell_type": "markdown",
   "metadata": {
    "deletable": false,
    "editable": false,
    "nbgrader": {
     "cell_type": "markdown",
     "checksum": "25654f4e58780073e72703d5e91ae2e8",
     "grade": false,
     "grade_id": "cell-96b954d43017582c",
     "locked": true,
     "schema_version": 3,
     "solution": false,
     "task": false
    }
   },
   "source": [
    "**Part C)** Based on your p-value, do cars produced at Plant B have a shorter expected lifespan than cars produced at plant A? Use a significance level of $\\alpha = 0.01$. Into variable `p2.c`, enter `TRUE` if there is a statistically significant difference or enter `FALSE` if there is not a statistically significant difference."
   ]
  },
  {
   "cell_type": "code",
   "execution_count": 71,
   "metadata": {
    "deletable": false,
    "nbgrader": {
     "cell_type": "code",
     "checksum": "d3ac7147941f21961a74ad076f97b087",
     "grade": false,
     "grade_id": "cell-a4bf4781b9c5ee17",
     "locked": false,
     "schema_version": 3,
     "solution": true,
     "task": false
    }
   },
   "outputs": [],
   "source": [
    "p2.c = NA\n",
    "\n",
    "p2.c = p2.b < 0.01\n"
   ]
  },
  {
   "cell_type": "code",
   "execution_count": 72,
   "metadata": {
    "deletable": false,
    "editable": false,
    "nbgrader": {
     "cell_type": "code",
     "checksum": "e8be9bfb2374ee98c08bd1f57ab33ee4",
     "grade": true,
     "grade_id": "cell-b1bfd8e73c36cb51",
     "locked": true,
     "points": 1,
     "schema_version": 3,
     "solution": false,
     "task": false
    }
   },
   "outputs": [],
   "source": [
    "# Hidden Test Cell"
   ]
  },
  {
   "cell_type": "markdown",
   "metadata": {
    "deletable": false,
    "editable": false,
    "nbgrader": {
     "cell_type": "markdown",
     "checksum": "cbe88d316ffcc4176db5911e125caf3c",
     "grade": false,
     "grade_id": "cell-2548458ab84e26cb",
     "locked": true,
     "schema_version": 3,
     "solution": false,
     "task": false
    }
   },
   "source": [
    "**Part D)** Suppose that we have not yet collected information on cars from plant B, but still know the values for cars from Plant A. Which of the situations below would result in the test with the highest power?\n",
    "\n",
    "1. You use a sample size of $n=100$, and the true mean lifespand of cars from plant B is $220$ thousand miles.\n",
    "2. You use a sample size of $n=100$, and the true mean lifespand of cars from plant B is $175$ thousand miles.\n",
    "3. You use a sample size of $n=300$, and the true mean lifespand of cars from plant B is $220$ thousand miles.\n",
    "4. You use a sample size of $n=300$, and the true mean lifespand of cars from plant B is $175$ thousand miles.\n",
    "5. All the above would have the same power.\n",
    "\n",
    "Save the integer associated with your answer into variable `p2.d`."
   ]
  },
  {
   "cell_type": "code",
   "execution_count": 6,
   "metadata": {
    "deletable": false,
    "nbgrader": {
     "cell_type": "code",
     "checksum": "17d66eab43eca2c6dfed78166f9ae94e",
     "grade": false,
     "grade_id": "cell-d696776c777a8dde",
     "locked": false,
     "schema_version": 3,
     "solution": true,
     "task": false
    }
   },
   "outputs": [],
   "source": [
    "p2.d = NA\n",
    "\n",
    "p2.d <- 4  # Sample size 300, true mean 175 gives highest power\n",
    "\n",
    "\n"
   ]
  },
  {
   "cell_type": "code",
   "execution_count": 74,
   "metadata": {
    "deletable": false,
    "editable": false,
    "nbgrader": {
     "cell_type": "code",
     "checksum": "c92d81807660cd28dc975680ea753789",
     "grade": true,
     "grade_id": "cell-d4c62d21d2464e29",
     "locked": true,
     "points": 1,
     "schema_version": 3,
     "solution": false,
     "task": false
    }
   },
   "outputs": [],
   "source": [
    "# Hidden Test Cell"
   ]
  },
  {
   "cell_type": "code",
   "execution_count": 8,
   "metadata": {},
   "outputs": [
    {
     "name": "stdout",
     "output_type": "stream",
     "text": [
      "[1] \"Thanks for stopping by, Author Sulay!\"\n"
     ]
    }
   ],
   "source": [
    "print('Thanks for stopping by, Author Sulay!')"
   ]
  },
  {
   "cell_type": "code",
   "execution_count": 9,
   "metadata": {},
   "outputs": [
    {
     "name": "stdout",
     "output_type": "stream",
     "text": [
      "[1] \"Inspired by University of Colorado Boulder\"\n"
     ]
    }
   ],
   "source": [
    "print('Inspired by University of Colorado Boulder')"
   ]
  },
  {
   "cell_type": "code",
   "execution_count": null,
   "metadata": {},
   "outputs": [],
   "source": []
  }
 ],
 "metadata": {
  "kernelspec": {
   "display_name": "R",
   "language": "R",
   "name": "ir"
  },
  "language_info": {
   "codemirror_mode": "r",
   "file_extension": ".r",
   "mimetype": "text/x-r-source",
   "name": "R",
   "pygments_lexer": "r",
   "version": "3.6.3"
  }
 },
 "nbformat": 4,
 "nbformat_minor": 4
}
