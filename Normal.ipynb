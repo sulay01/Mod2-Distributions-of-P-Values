{
 "cells": [
  {
   "cell_type": "markdown",
   "metadata": {},
   "source": [
    "# Generate a random sample of size 100,000 form the standard normal distribution.\n",
    "\n",
    "> Since \"sample\" is a reserved word in R, we will call our sample \"mysample\". You can use the word \"sample\" but you should try to stay away from using names that are already used in R or you might see unexpected behavior.\n",
    "\n",
    "> In the box below, type\n",
    "`mysample<-rnorm(100000)`\n",
    "\n",
    "> You can also designate any mean and variance that you want. For example `rnorm(100000,1,4)` will produce a random sample of size 100,000 from the N(1,4) distribution. If you don't specify a mean and variance, they will default to 0 and 1, respectively.\n"
   ]
  },
  {
   "cell_type": "code",
   "execution_count": 1,
   "metadata": {},
   "outputs": [],
   "source": [
    "mysample<-rnorm(100000)"
   ]
  },
  {
   "cell_type": "markdown",
   "metadata": {},
   "source": [
    "# Make a histogram\n",
    "\n",
    "> In the following box, type `hist(mysample)`"
   ]
  },
  {
   "cell_type": "code",
   "execution_count": 2,
   "metadata": {},
   "outputs": [
    {
     "data": {
      "image/png": "[encoded data removed]",
      "text/plain": [
       "Plot with title “Histogram of mysample”"
      ]
     },
     "metadata": {
      "image/png": {
       "height": 420,
       "width": 420
      },
      "text/plain": {
       "height": 420,
       "width": 420
      }
     },
     "output_type": "display_data"
    }
   ],
   "source": [
    "hist(mysample)"
   ]
  },
  {
   "cell_type": "markdown",
   "metadata": {},
   "source": [
    "> Let's take a little more control in the appearance of the histogram. For example, the default bin width you are seeing is probably 0.5. Lets change it to 0.1. In order to do this, we will have to define the breakpoints as a sequence of numbers.\n",
    "\n",
    "> In the next box, type \n",
    "\n",
    "`min(mysample)`  \n",
    "`max(mysample)`"
   ]
  },
  {
   "cell_type": "code",
   "execution_count": 3,
   "metadata": {},
   "outputs": [
    {
     "data": {
      "text/html": [
       "-4.3265447269937"
      ],
      "text/latex": [
       "-4.3265447269937"
      ],
      "text/markdown": [
       "-4.3265447269937"
      ],
      "text/plain": [
       "[1] -4.326545"
      ]
     },
     "metadata": {},
     "output_type": "display_data"
    },
    {
     "data": {
      "text/html": [
       "4.73204904179054"
      ],
      "text/latex": [
       "4.73204904179054"
      ],
      "text/markdown": [
       "4.73204904179054"
      ],
      "text/plain": [
       "[1] 4.732049"
      ]
     },
     "metadata": {},
     "output_type": "display_data"
    }
   ],
   "source": [
    "min(mysample)\n",
    "max(mysample)"
   ]
  },
  {
   "cell_type": "markdown",
   "metadata": {},
   "source": [
    "> Suppose that your minimum and maximum are -4.02202956861484 and 3.40693822378908. In what follows, use your actual numbers.\n",
    "\n",
    "> Make a sequence (vector) of bin breaks, each which length 0.1 that will include your minimum and maximum. We will call it \"br\".\n",
    "\n",
    "`br<-seq(-4.1,3.5,0.1)`\n",
    "\n",
    "> Notice how, in this example, we have used the closest numbers to one decimal place that will fully cover the entire dataset.\n",
    "\n"
   ]
  },
  {
   "cell_type": "code",
   "execution_count": 5,
   "metadata": {},
   "outputs": [
    {
     "name": "stdout",
     "output_type": "stream",
     "text": [
      " [1] -4.100000e+00 -4.000000e+00 -3.900000e+00 -3.800000e+00 -3.700000e+00\n",
      " [6] -3.600000e+00 -3.500000e+00 -3.400000e+00 -3.300000e+00 -3.200000e+00\n",
      "[11] -3.100000e+00 -3.000000e+00 -2.900000e+00 -2.800000e+00 -2.700000e+00\n",
      "[16] -2.600000e+00 -2.500000e+00 -2.400000e+00 -2.300000e+00 -2.200000e+00\n",
      "[21] -2.100000e+00 -2.000000e+00 -1.900000e+00 -1.800000e+00 -1.700000e+00\n",
      "[26] -1.600000e+00 -1.500000e+00 -1.400000e+00 -1.300000e+00 -1.200000e+00\n",
      "[31] -1.100000e+00 -1.000000e+00 -9.000000e-01 -8.000000e-01 -7.000000e-01\n",
      "[36] -6.000000e-01 -5.000000e-01 -4.000000e-01 -3.000000e-01 -2.000000e-01\n",
      "[41] -1.000000e-01  8.881784e-16  1.000000e-01  2.000000e-01  3.000000e-01\n",
      "[46]  4.000000e-01  5.000000e-01  6.000000e-01  7.000000e-01  8.000000e-01\n",
      "[51]  9.000000e-01  1.000000e+00  1.100000e+00  1.200000e+00  1.300000e+00\n",
      "[56]  1.400000e+00  1.500000e+00  1.600000e+00  1.700000e+00  1.800000e+00\n",
      "[61]  1.900000e+00  2.000000e+00  2.100000e+00  2.200000e+00  2.300000e+00\n",
      "[66]  2.400000e+00  2.500000e+00  2.600000e+00  2.700000e+00  2.800000e+00\n",
      "[71]  2.900000e+00  3.000000e+00  3.100000e+00  3.200000e+00  3.300000e+00\n",
      "[76]  3.400000e+00  3.500000e+00\n"
     ]
    }
   ],
   "source": [
    "# Create a sequence of bin breaks with 0.1 increments\n",
    "br <- seq(-4.1, 3.5, 0.1)\n",
    "\n",
    "# Display the sequence\n",
    "print(br)\n"
   ]
  },
  {
   "cell_type": "code",
   "execution_count": null,
   "metadata": {},
   "outputs": [],
   "source": []
  }
 ],
 "metadata": {
  "kernelspec": {
   "display_name": "R",
   "language": "R",
   "name": "ir"
  }
 },
 "nbformat": 4,
 "nbformat_minor": 4
}
