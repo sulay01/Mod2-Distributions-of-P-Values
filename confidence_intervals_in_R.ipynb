{
 "cells": [
  {
   "cell_type": "markdown",
   "metadata": {},
   "source": [
    "# Confidence Intervals in R\n"
   ]
  },
  {
   "cell_type": "markdown",
   "metadata": {},
   "source": [
    "# An Exploration of Confidence\n",
    "\n",
    "> Generate a random sample of size 10 from the N(1,2) distribution.  \n",
    ">You can do this by typing  \n",
    ">`mysamp<-rnorm(10,1,sqrt(2))`  \n",
    "> or my generating N(0,1) random variables and \"unstandardizing\" them by typing  \n",
    "> `mysample<-sqrt(2)*rnorm(10)+1`"
   ]
  },
  {
   "cell_type": "code",
   "execution_count": 1,
   "metadata": {},
   "outputs": [
    {
     "name": "stdout",
     "output_type": "stream",
     "text": [
      "[1] 1.639181\n"
     ]
    }
   ],
   "source": [
    "# Generate a random sample from N(1,2)\n",
    "mysamp <- rnorm(10, 1, sqrt(2))\n",
    "\n",
    "# Estimate the Mean\n",
    "xbar <- mean(mysamp)\n",
    "print(xbar)\n"
   ]
  },
  {
   "cell_type": "markdown",
   "metadata": {},
   "source": [
    "> We know that the variance of the distribution this sample came from is 2. Let us suppose that we don't know the mean. Estimate it with the sample mean by typing  \n",
    "` xbar<-mean(mysamp)`\n",
    "\n",
    "> You have found the sample mean and assigned it to a variable called \"xbar\". View it by typing  \n",
    "`xbar`  \n",
    "in the same cell but on the next line."
   ]
  },
  {
   "cell_type": "code",
   "execution_count": 2,
   "metadata": {},
   "outputs": [
    {
     "name": "stdout",
     "output_type": "stream",
     "text": [
      "[1] 1.959964\n"
     ]
    }
   ],
   "source": [
    "# Find Critical Value for 95% Confidence Interval\n",
    "cv <- qnorm(0.975)\n",
    "print(cv)\n"
   ]
  },
  {
   "cell_type": "markdown",
   "metadata": {},
   "source": [
    "> Let's find the critical values for a 95% confidence interval. We wand to find two values that, when indicated on the x-axis for a standard normal curve, capture area 0.95 between them. This means that we want to find a number that cuts of area 0.95+0.05/2=0.975 to the left and 0.025 to the right. We can get this by typing  \n",
    "`qnorm(0.975)`  \n",
    "Let's call the result \"cv\" for \"critical value\".  \n",
    "`cv<-qnorm(0.975)`"
   ]
  },
  {
   "cell_type": "code",
   "execution_count": 3,
   "metadata": {},
   "outputs": [
    {
     "name": "stdout",
     "output_type": "stream",
     "text": [
      "[1] 0.7626581 2.5157032\n"
     ]
    }
   ],
   "source": [
    "# Compute 95% Confidence Interval\n",
    "myci <- c(xbar - cv * sqrt(2/10), xbar + cv * sqrt(2/10))\n",
    "print(myci)\n"
   ]
  },
  {
   "cell_type": "markdown",
   "metadata": {},
   "source": [
    "> We are ready to compute the confidence interval!  \n",
    "The lower endpoint is given by  \n",
    "`xbar-cv*sqrt(2/10)`  \n",
    "and the upper endpoint is  \n",
    "`xbar+cv*sqrt(2/10)` \n",
    "\n",
    ">Let's store them in a vector by typing  \n",
    "`myci<-c(xbar-cv*sqrt(2/10),xbar+cv*sqrt(2/10))`  \n",
    "and display it by typing  \n",
    "`myci`"
   ]
  },
  {
   "cell_type": "code",
   "execution_count": 4,
   "metadata": {},
   "outputs": [
    {
     "name": "stdout",
     "output_type": "stream",
     "text": [
      "[1] 0.95115\n"
     ]
    }
   ],
   "source": [
    "# Simulation: Proportion of CIs Containing True Mean\n",
    "count <- 0\n",
    "cv <- qnorm(0.975)\n",
    "\n",
    "for(i in 1:100000){\n",
    "  mysamp <- rnorm(10, 1, sqrt(2))\n",
    "  xbar <- mean(mysamp)\n",
    "  if(xbar - cv * sqrt(2/10) < 1 && xbar + cv * sqrt(2/10) > 1){\n",
    "    count <- count + 1\n",
    "  }\n",
    "}\n",
    "\n",
    "# Proportion of Intervals Containing True Mean\n",
    "print(count / 100000)\n"
   ]
  },
  {
   "cell_type": "markdown",
   "metadata": {},
   "source": [
    "> Does your confidence interval contain the true mean of 1 for this sample? It doesn't have to. In fact, 5% of the time it won't! Let's see this in action. Let's look at 100,000 different random samples of size 10. For each sample we will compute a confidence interval and we will keep track of the total number of times the interval contains the true mean of 1.\n",
    "\n",
    "> Begin by initializing a count variable and making a \"for loop\" by typing  \n",
    "`count<-0`  \n",
    "`for(i in 1:100000){`  \n",
    "`}`\n",
    "\n",
    "> Just before starting the \"for loop\", set the appropriate critical value. (It is already set in this jupyter notebook but we will do it again here for completeness of our little piece of code.)  \n",
    "`count<-0`  \n",
    "`cv<-qnorm(0.975)`  \n",
    "`for(i in 1:100000){`  \n",
    "`}`\n",
    "\n",
    "> Inside your \"for loop\", generate a random sample of size 10 from the N(1,2) distribution called \"mysamp\". Compute the sample mean and call it \"xbar\".  \n",
    "\n",
    "> Check whether or not the resulting confidence interval contains the true mean of 1 and increment your count variable if it does!  \n",
    "`if(xbar-cv*sqrt(2/10)< 1 && xbar+cv*sqrt(2/10)>1){  \n",
    "     count<-count+1\n",
    "}`"
   ]
  },
  {
   "cell_type": "code",
   "execution_count": 5,
   "metadata": {},
   "outputs": [
    {
     "name": "stdout",
     "output_type": "stream",
     "text": [
      "[1] 0.7214214 2.4744665\n"
     ]
    }
   ],
   "source": [
    "# Confidence Interval Function (normCI)\n",
    "normCI <- function(data, variance, level){\n",
    "  cv <- qnorm(level + (1 - level) / 2)\n",
    "  xbar <- mean(data)\n",
    "  return(c(xbar - cv * sqrt(variance / length(data)), \n",
    "           xbar + cv * sqrt(variance / length(data))))\n",
    "}\n",
    "\n",
    "# Test the Function with Sample\n",
    "print(normCI(mysamp, 2, 0.95))\n"
   ]
  },
  {
   "cell_type": "markdown",
   "metadata": {},
   "source": [
    "> Look at the proportion by typing  \n",
    "`count/100000`  \n",
    "What do you see?"
   ]
  },
  {
   "cell_type": "code",
   "execution_count": 6,
   "metadata": {},
   "outputs": [],
   "source": [
    "# Load Fly Ash Data\n",
    "flyash <- read.table(\"flyash\")\n",
    "flyash <- c(unlist(flyash))\n",
    "flyash <- as.vector(flyash)\n"
   ]
  },
  {
   "cell_type": "markdown",
   "metadata": {},
   "source": [
    "# Making a Confidence Interval Function\n",
    "\n",
    "> R has built-in functions to make confidence intervals for the mean of a population or the difference in two means. That is, anything confidence interval for a mean or difference of means that requires a t-critical value.In order to get a confidence interval with z-critical values, one would have to load a special package. Instead of doing this, let's work with the base packages in R and write our own function.  \n",
    "\n",
    ">In the cell below, type  \n",
    "`normCI<-function(data,variance,level){}`  \n",
    "\n",
    "> In **between the braces** (which can be on different lines for clarity) add the lines  \n",
    "`cv<-qnorm(level+(1-level)/2)  \n",
    "xbar<-mean(data)  \n",
    "c(xbar-cv*sqrt(variance/length(data)),xbar+cv*sqrt(variance/length(data)))`\n"
   ]
  },
  {
   "cell_type": "code",
   "execution_count": 7,
   "metadata": {},
   "outputs": [],
   "source": [
    "# Load Silicate Data\n",
    "silicate <- read.table(\"silicate\")\n",
    "silicate <- c(unlist(silicate))\n",
    "silicate <- as.vector(silicate)\n"
   ]
  },
  {
   "cell_type": "markdown",
   "metadata": {},
   "source": [
    "> Now type  \n",
    "`normCI(mysamp,2,0.95)`  \n",
    "  \n",
    "> Note that you will not get the exact same confidence interval that you originally computed at the beginning of this lab because we have overwritten the vector \"mysamp\"-- many times in fact!  "
   ]
  },
  {
   "cell_type": "code",
   "execution_count": 8,
   "metadata": {},
   "outputs": [
    {
     "name": "stdout",
     "output_type": "stream",
     "text": [
      "\n",
      "\tOne Sample t-test\n",
      "\n",
      "data:  flyash\n",
      "t = 81.216, df = 7, p-value = 1.129e-11\n",
      "alternative hypothesis: true mean is not equal to 0\n",
      "95 percent confidence interval:\n",
      " 1355.943 1437.268\n",
      "sample estimates:\n",
      "mean of x \n",
      " 1396.606 \n",
      "\n"
     ]
    }
   ],
   "source": [
    "# 95% Confidence Interval for Fly Ash\n",
    "print(t.test(flyash))\n"
   ]
  },
  {
   "cell_type": "markdown",
   "metadata": {},
   "source": [
    "# Built in t-Confidence Intervals in R  \n",
    "> Compresive strength of concrete is measured in $\\mbox{KN/m}^{2}$. A random  sample of one type of concrete (cement mixed with pulverized fuel ash) and a random sample of another type of concrete (cement mixed with a new artifical siliceous material produced in a lab) were obtained.  \n",
    "\n",
    ">Read in the first random sample from provided data files by typing the following.  \n",
    "`flyash<-read.table(\"flyash\")`    \n",
    "`flyash<-c(unlist(flyash))`  \n",
    "`flyash<-as.vector(flyash)`\n",
    "\n",
    "Do the same thing for the second sample. The filename for this is 'silicate'."
   ]
  },
  {
   "cell_type": "code",
   "execution_count": 9,
   "metadata": {},
   "outputs": [
    {
     "name": "stdout",
     "output_type": "stream",
     "text": [
      "\n",
      "\tOne Sample t-test\n",
      "\n",
      "data:  flyash\n",
      "t = 81.216, df = 7, p-value = 1.129e-11\n",
      "alternative hypothesis: true mean is not equal to 0\n",
      "90 percent confidence interval:\n",
      " 1364.026 1429.185\n",
      "sample estimates:\n",
      "mean of x \n",
      " 1396.606 \n",
      "\n"
     ]
    }
   ],
   "source": [
    "# 90% Confidence Interval for Fly Ash\n",
    "print(t.test(flyash, conf.level = 0.90))\n"
   ]
  },
  {
   "cell_type": "markdown",
   "metadata": {},
   "source": [
    "> Assume that the populations are both normally distributed.  \n",
    "> Find a 95% confidence interval for the true mean compresive strength of the fly ash mix by typing  \n",
    "`t.test(flyash)`  \n",
    "> Can you pick the confidence interval out from this information?"
   ]
  },
  {
   "cell_type": "code",
   "execution_count": 10,
   "metadata": {},
   "outputs": [
    {
     "name": "stdout",
     "output_type": "stream",
     "text": [
      "\n",
      "\tWelch Two Sample t-test\n",
      "\n",
      "data:  flyash and silicate\n",
      "t = 2.9765, df = 13.143, p-value = 0.0106\n",
      "alternative hypothesis: true difference in means is not equal to 0\n",
      "95 percent confidence interval:\n",
      "  17.4014 109.1619\n",
      "sample estimates:\n",
      "mean of x mean of y \n",
      " 1396.606  1333.324 \n",
      "\n"
     ]
    }
   ],
   "source": [
    "# Two-Sample t-Test for Fly Ash vs. Silicate\n",
    "print(t.test(flyash, silicate))\n"
   ]
  },
  {
   "cell_type": "markdown",
   "metadata": {},
   "source": [
    "Suppose that we want to change the default confidence level from 95% to 90%. Type the following  \n",
    "`t.test(flyash',conf.level=0.90)`  \n",
    "Does the width of the resulting confidence interval compare to the width of the previous 95% interval in the way that you expected?"
   ]
  },
  {
   "cell_type": "code",
   "execution_count": 11,
   "metadata": {},
   "outputs": [
    {
     "name": "stdout",
     "output_type": "stream",
     "text": [
      "\n",
      "\tTwo Sample t-test\n",
      "\n",
      "data:  flyash and silicate\n",
      "t = 3.0244, df = 15, p-value = 0.008538\n",
      "alternative hypothesis: true difference in means is not equal to 0\n",
      "95 percent confidence interval:\n",
      "  18.68324 107.88007\n",
      "sample estimates:\n",
      "mean of x mean of y \n",
      " 1396.606  1333.324 \n",
      "\n"
     ]
    }
   ],
   "source": [
    "# Two-Sample t-Test with Pooled Variance\n",
    "print(t.test(flyash, silicate, var.equal = TRUE))\n"
   ]
  },
  {
   "cell_type": "markdown",
   "metadata": {},
   "source": [
    "> Finally, let us do a two-sample t-test to compare the means for both concrete populations by typing  \n",
    "`t.test(flyash,silicate')`"
   ]
  },
  {
   "cell_type": "markdown",
   "metadata": {},
   "source": [
    "> Does it appear that the new silcate mix is stronger than the fly ash mix?  \n",
    "\n",
    "> You'll notice that the \"Welch t-test\" was performed. This is the more general test if you can not assume that the populations has equal variances. This is most likely what you will be using in \"real life\". However, if you would like to perform a \"pooled variance test\", you would include \"var.equal=T\" in your last command.  \n",
    "\n",
    "> Try this. Is your resulting confidence interval wider or narrower than the Welch confidence interval? Does the relative length make sense to you?\n"
   ]
  },
  {
   "cell_type": "code",
   "execution_count": 12,
   "metadata": {},
   "outputs": [
    {
     "name": "stdout",
     "output_type": "stream",
     "text": [
      "\n",
      "\tWelch Two Sample t-test\n",
      "\n",
      "data:  flyash and silicate\n",
      "t = 2.9765, df = 13.143, p-value = 0.0106\n",
      "alternative hypothesis: true difference in means is not equal to 0\n",
      "95 percent confidence interval:\n",
      "  17.4014 109.1619\n",
      "sample estimates:\n",
      "mean of x mean of y \n",
      " 1396.606  1333.324 \n",
      "\n"
     ]
    }
   ],
   "source": [
    "# Welch's t-test (default, no equal variance assumption)\n",
    "welch_test <- t.test(flyash, silicate)\n",
    "print(welch_test)\n"
   ]
  },
  {
   "cell_type": "code",
   "execution_count": 13,
   "metadata": {},
   "outputs": [
    {
     "name": "stdout",
     "output_type": "stream",
     "text": [
      "\n",
      "\tTwo Sample t-test\n",
      "\n",
      "data:  flyash and silicate\n",
      "t = 3.0244, df = 15, p-value = 0.008538\n",
      "alternative hypothesis: true difference in means is not equal to 0\n",
      "95 percent confidence interval:\n",
      "  18.68324 107.88007\n",
      "sample estimates:\n",
      "mean of x mean of y \n",
      " 1396.606  1333.324 \n",
      "\n"
     ]
    }
   ],
   "source": [
    "# Pooled Variance t-test (equal variance assumption)\n",
    "pooled_test <- t.test(flyash, silicate, var.equal = TRUE)\n",
    "print(pooled_test)\n"
   ]
  },
  {
   "cell_type": "code",
   "execution_count": 14,
   "metadata": {},
   "outputs": [
    {
     "name": "stdout",
     "output_type": "stream",
     "text": [
      "[1] \"Welch CI Length: 91.760508081719\"\n",
      "[1] \"Pooled CI Length: 89.1968316609175\"\n"
     ]
    }
   ],
   "source": [
    "# Compare CI lengths\n",
    "welch_ci_length <- diff(welch_test$conf.int)\n",
    "pooled_ci_length <- diff(pooled_test$conf.int)\n",
    "\n",
    "print(paste(\"Welch CI Length:\", welch_ci_length))\n",
    "print(paste(\"Pooled CI Length:\", pooled_ci_length))\n"
   ]
  },
  {
   "cell_type": "code",
   "execution_count": 22,
   "metadata": {},
   "outputs": [
    {
     "name": "stdout",
     "output_type": "stream",
     "text": [
      "Conclusion:\n",
      " If the silicate mix has a significantly higher mean with a 95% CI that does not include zero,\n",
      " it appears stronger than the fly ash mix.\n",
      " Usually, the Welch CI is wider due to the assumption of unequal variances,\n",
      " while the Pooled CI is narrower.\n",
      " If the variances are actually unequal, Welch’s test is more reliable.\n"
     ]
    }
   ],
   "source": [
    "# Display legible output with line breaks using cat()\n",
    "cat(\"Conclusion:\\n\",\n",
    "    \"If the silicate mix has a significantly higher mean with a 95% CI that does not include zero,\\n\",\n",
    "    \"it appears stronger than the fly ash mix.\\n\",\n",
    "    \"Usually, the Welch CI is wider due to the assumption of unequal variances,\\n\",\n",
    "    \"while the Pooled CI is narrower.\\n\",\n",
    "    \"If the variances are actually unequal, Welch’s test is more reliable.\\n\")\n"
   ]
  },
  {
   "cell_type": "code",
   "execution_count": 16,
   "metadata": {},
   "outputs": [
    {
     "name": "stdout",
     "output_type": "stream",
     "text": [
      "[1] \"Author:Sulay Cay, University of Colorado Boulder\"\n"
     ]
    }
   ],
   "source": [
    "print('Author:Sulay Cay, University of Colorado Boulder')"
   ]
  },
  {
   "cell_type": "code",
   "execution_count": 21,
   "metadata": {},
   "outputs": [
    {
     "name": "stdout",
     "output_type": "stream",
     "text": [
      "[1] \"That's all folks!\"\n"
     ]
    }
   ],
   "source": [
    "print(\"That's all folks!\")"
   ]
  },
  {
   "cell_type": "code",
   "execution_count": null,
   "metadata": {},
   "outputs": [],
   "source": []
  }
 ],
 "metadata": {
  "kernelspec": {
   "display_name": "R",
   "language": "R",
   "name": "ir"
  }
 },
 "nbformat": 4,
 "nbformat_minor": 4
}
